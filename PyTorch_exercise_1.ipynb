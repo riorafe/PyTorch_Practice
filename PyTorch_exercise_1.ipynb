{
  "nbformat": 4,
  "nbformat_minor": 0,
  "metadata": {
    "colab": {
      "name": "PyTorch_exercise_1.ipynb",
      "provenance": [],
      "mount_file_id": "1kd_pxR9E6-zLt0IKTCF_u13TdhUl3eej",
      "authorship_tag": "ABX9TyNJqdQEYbwlXtqH+k759d7Y",
      "include_colab_link": true
    },
    "kernelspec": {
      "name": "python3",
      "display_name": "Python 3"
    },
    "accelerator": "TPU"
  },
  "cells": [
    {
      "cell_type": "markdown",
      "metadata": {
        "id": "view-in-github",
        "colab_type": "text"
      },
      "source": [
        "<a href=\"https://colab.research.google.com/github/riorafe/PyTorch_Practice/blob/master/PyTorch_exercise_1.ipynb\" target=\"_parent\"><img src=\"https://colab.research.google.com/assets/colab-badge.svg\" alt=\"Open In Colab\"/></a>"
      ]
    },
    {
      "cell_type": "code",
      "metadata": {
        "id": "qnfMN77kegcN",
        "colab_type": "code",
        "colab": {
          "base_uri": "https://localhost:8080/",
          "height": 124
        },
        "outputId": "d9a0180a-53b2-42b5-997e-3e46d0ae02bf"
      },
      "source": [
        "import torch\n",
        "from torch.utils.data import TensorDataset, DataLoader\n",
        "\n",
        "N = 64 # n data\n",
        "H = 100 # hidden\n",
        "D_in = 1000 # input dimension\n",
        "D_out = 10 # output dimension\n",
        "\n",
        "# bikin dataset sebanyak 64 data\n",
        "x = torch.randn(N, D_in)\n",
        "y = torch.randn(N, D_out)\n",
        "\n",
        "loader = DataLoader(TensorDataset(x,y), batch_size = 8, shuffle = True)\n",
        "\n",
        "model = torch.nn.Sequential(\n",
        "    torch.nn.Linear(D_in, H),\n",
        "    torch.nn.ReLU(),\n",
        "    torch.nn.Linear(H, D_out)\n",
        ")\n",
        "\n",
        "learning_rate = 1e-4\n",
        "optimizer = torch.optim.Adam(model.parameters(), learning_rate)\n",
        "\n",
        "for i in range (501):\n",
        "  for x_batch, y_batch in loader:\n",
        "    y_pred = model(x_batch)\n",
        "    loss = torch.nn.functional.mse_loss(y_pred, y_batch)\n",
        "\n",
        "    loss.backward()\n",
        "\n",
        "    optimizer.step()\n",
        "    optimizer.zero_grad()\n",
        "  if i % 100 == 0:\n",
        "    print('batch: ', i,'loss: ',loss)"
      ],
      "execution_count": 1,
      "outputs": [
        {
          "output_type": "stream",
          "text": [
            "batch:  0 loss:  tensor(1.0225, grad_fn=<MseLossBackward>)\n",
            "batch:  100 loss:  tensor(7.8265e-05, grad_fn=<MseLossBackward>)\n",
            "batch:  200 loss:  tensor(2.7556e-12, grad_fn=<MseLossBackward>)\n",
            "batch:  300 loss:  tensor(3.1424e-13, grad_fn=<MseLossBackward>)\n",
            "batch:  400 loss:  tensor(1.5803e-14, grad_fn=<MseLossBackward>)\n",
            "batch:  500 loss:  tensor(6.9561e-15, grad_fn=<MseLossBackward>)\n"
          ],
          "name": "stdout"
        }
      ]
    }
  ]
}